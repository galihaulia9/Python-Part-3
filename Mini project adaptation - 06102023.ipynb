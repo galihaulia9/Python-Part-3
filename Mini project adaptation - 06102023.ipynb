{
 "cells": [
  {
   "cell_type": "markdown",
   "id": "fac3db2c",
   "metadata": {},
   "source": [
    "TASK 1 - Mini project adaptation questions (1a)"
   ]
  },
  {
   "cell_type": "markdown",
   "id": "0cf38a92",
   "metadata": {},
   "source": [
    "- Example 1"
   ]
  },
  {
   "cell_type": "code",
   "execution_count": 1,
   "id": "4d60b091",
   "metadata": {},
   "outputs": [
    {
     "name": "stdout",
     "output_type": "stream",
     "text": [
      "Nama | Gaji\n",
      "Dinda | 7\n",
      "Cacha | 3,6\n",
      "Amel | 4\n",
      "['Aulia | 4,2', 'Dinda | 7', 'Cacha | 3,6', 'Amel | 4']\n"
     ]
    }
   ],
   "source": [
    "survey = ['Aulia | 4,2']\n",
    "\n",
    "print('Nama | Gaji')\n",
    "for i in range(3) :\n",
    "    z = input()\n",
    "    survey.append(z)\n",
    "\n",
    "print(survey)"
   ]
  },
  {
   "cell_type": "markdown",
   "id": "14bb646c",
   "metadata": {},
   "source": [
    "- Example 2"
   ]
  },
  {
   "cell_type": "code",
   "execution_count": 2,
   "id": "12d82e77",
   "metadata": {},
   "outputs": [
    {
     "name": "stdout",
     "output_type": "stream",
     "text": [
      "Masukkan nama kepala keluarga: Wijaya\n",
      "Masukkan total pengeluaran bulanan keluarga: 1000_000\n",
      "Masukkan nama kepala keluarga: Bambang\n",
      "Masukkan total pengeluaran bulanan keluarga: 1_500_000\n",
      "Hasil survei:\n",
      "Nama Kepala Keluarga: Wijaya, Total Pengeluaran Bulanan: 1000000.0\n",
      "Nama Kepala Keluarga: Bambang, Total Pengeluaran Bulanan: 1500000.0\n",
      "[('Wijaya', 1000000.0), ('Bambang', 1500000.0)]\n"
     ]
    }
   ],
   "source": [
    "# menyimpan data survei\n",
    "data_survey = []\n",
    "\n",
    "# Lakukan iterasi sebanyak 4 kali\n",
    "for i in range(2):\n",
    "    nama = input(\"Masukkan nama kepala keluarga: \")\n",
    "    pengeluaran = float(input(\"Masukkan total pengeluaran bulanan keluarga: \"))\n",
    "    data_survey.append((nama, pengeluaran))\n",
    "\n",
    "# Menampilkan hasil survei\n",
    "print(\"Hasil survei:\")\n",
    "for nama, pengeluaran in data_survey:\n",
    "    print(f\"Nama Kepala Keluarga: {nama}, Total Pengeluaran Bulanan: {pengeluaran}\")\n",
    "print(data_survey)"
   ]
  },
  {
   "cell_type": "markdown",
   "id": "539bd40d",
   "metadata": {},
   "source": [
    "TASK 2 - Mini project adaptation questions (1b)"
   ]
  },
  {
   "cell_type": "markdown",
   "id": "165346f8",
   "metadata": {},
   "source": [
    "- Example 1"
   ]
  },
  {
   "cell_type": "code",
   "execution_count": 12,
   "id": "d1ccf27a",
   "metadata": {},
   "outputs": [
    {
     "name": "stdout",
     "output_type": "stream",
     "text": [
      "Masukkan nama kepala keluarga dan penghasilannya (format: 'Nama | Penghasilan'): Cakra | 44_000_000\n",
      "Masukkan nama kepala keluarga dan penghasilannya (format: 'Nama | Penghasilan'): Dicky | 58_000_000\n",
      "\n",
      "Hasil survei kondisi penghasilan dan pekerjaan masyarakat di Kota Surabaya :\n",
      "1. Nama: Cakra, Penghasilan: Rp 44,000,000.00, Jabatan: Jendral\n",
      "2. Nama: Dicky, Penghasilan: Rp 58,000,000.00, Jabatan: Mayor\n"
     ]
    }
   ],
   "source": [
    "# Inisialisasi list kosong untuk menyimpan data keluarga\n",
    "data_keluarga = []\n",
    "\n",
    "# Melakukan iterasi 10x untuk membaca input dari user\n",
    "for i in range(2):\n",
    "    input_data = input(\"Masukkan nama kepala keluarga dan penghasilannya (format: 'Nama | Penghasilan'): \")\n",
    "    nama, penghasilan_str = input_data.split(\" | \")\n",
    "    penghasilan = float(penghasilan_str)\n",
    "\n",
    "# Menentukan status jabatan berdasarkan penghasilan\n",
    "    if penghasilan > 50_000_000:\n",
    "        status_jabatan = \"Mayor\"\n",
    "    elif 70_000_000 <= penghasilan <= 50_000_000:\n",
    "        status_jabatan = \"Laksamana\"\n",
    "    elif 40_000_000 <= penghasilan < 50_000_000:\n",
    "        status_jabatan = \"Jendral\"\n",
    "    elif 20_000_000 <= penghasilan < 10_000_000:\n",
    "        status_jabatan = \"Perwira\"\n",
    "    else:\n",
    "        status_jabatan = \"Tidak Kerja\"\n",
    "\n",
    "# Menyimpan data keluarga ke dalam list\n",
    "    data_keluarga.append((nama, penghasilan, status_jabatan))\n",
    "    \n",
    "# Menampilkan hasil survei\n",
    "print(\"\\nHasil survei kondisi penghasilan dan pekerjaan masyarakat di Kota Surabaya :\")\n",
    "for idx, (nama, penghasilan, status_jabatan) in enumerate(data_keluarga, start=1):\n",
    "    print(f\"{idx}. Nama: {nama}, Penghasilan: Rp {penghasilan:,.2f}, Jabatan: {status_jabatan}\")"
   ]
  },
  {
   "cell_type": "markdown",
   "id": "b6d62cb5",
   "metadata": {},
   "source": [
    "TASK 3 -  Mini project adaptation questions"
   ]
  },
  {
   "cell_type": "markdown",
   "id": "75f1f458",
   "metadata": {},
   "source": [
    "- Example 1"
   ]
  },
  {
   "cell_type": "code",
   "execution_count": 18,
   "id": "61cb35f5",
   "metadata": {},
   "outputs": [
    {
     "name": "stdout",
     "output_type": "stream",
     "text": [
      "Masukkan jumlah data peminjam: 4\n",
      "Masukkan jumlah buku yang dipinjam (data ke-1): 8\n",
      "Kategori peminjam (data ke-1): Peminjam Aktif\n",
      "Masukkan jumlah buku yang dipinjam (data ke-2): 1\n",
      "Kategori peminjam (data ke-2): Peminjam Jarang\n",
      "Masukkan jumlah buku yang dipinjam (data ke-3): 0\n",
      "Kategori peminjam (data ke-3): Peminjam Jarang\n",
      "Masukkan jumlah buku yang dipinjam (data ke-4): -\n",
      "invalid literal for int() with base 10: '-'\n"
     ]
    }
   ],
   "source": [
    "def kategori_peminjam(jumlah_buku):\n",
    "    try:\n",
    "        # jumlah buku adalah bilangan bulat\n",
    "        if not isinstance(jumlah_buku, int) or jumlah_buku < 0:\n",
    "            raise ValueError(\"Jumlah buku harus berupa bilangan bulat positif\")\n",
    "        \n",
    "        # peminjam berdasarkan jumlah buku\n",
    "        if jumlah_buku > 5:\n",
    "            return \"Peminjam Aktif\"\n",
    "        elif 2 <= jumlah_buku <= 5:\n",
    "            return \"Peminjam Biasa\"\n",
    "        else:\n",
    "            return \"Peminjam Jarang\"\n",
    "    except ValueError as e:\n",
    "        return str(e)\n",
    "\n",
    "# jumlah buku dari pengguna\n",
    "try:\n",
    "    num_entries = int(input(\"Masukkan jumlah data peminjam: \"))\n",
    "    for i in range(num_entries):\n",
    "        jumlah_buku = int(input(f\"Masukkan jumlah buku yang dipinjam (data ke-{i+1}): \"))\n",
    "        kategori = kategori_peminjam(jumlah_buku)\n",
    "        print(f\"Kategori peminjam (data ke-{i+1}): {kategori}\")\n",
    "except ValueError as e:\n",
    "    print(e)"
   ]
  },
  {
   "cell_type": "markdown",
   "id": "a782896d",
   "metadata": {},
   "source": [
    "- Example 2"
   ]
  },
  {
   "cell_type": "code",
   "execution_count": 20,
   "id": "29f5e0e4",
   "metadata": {},
   "outputs": [
    {
     "name": "stdout",
     "output_type": "stream",
     "text": [
      "Masukkan data untuk keluarga ke-1 (format: Nama | Penghasilan): Bambang | 12_000_000\n",
      "Keluarga Bambang memiliki pekerjaan dengan jabatan: Laksamana\n",
      "Masukkan data untuk keluarga ke-2 (format: Nama | Penghasilan): Surya | 20_000_000\n",
      "Keluarga Surya memiliki pekerjaan dengan jabatan: Mayor\n",
      "Masukkan data untuk keluarga ke-3 (format: Nama | Penghasilan): Edi | 4500_000\n",
      "Keluarga Edi memiliki pekerjaan dengan jabatan: Perwira\n",
      "Masukkan data untuk keluarga ke-4 (format: Nama | Penghasilan): -\n",
      "Terjadi kesalahan: not enough values to unpack (expected 2, got 1)\n"
     ]
    }
   ],
   "source": [
    "# Fungsi untuk menentukan jabatan berdasarkan penghasilan\n",
    "def jabatan(penghasilan):\n",
    "    if penghasilan > 15_000_000:\n",
    "        return \"Mayor\"\n",
    "    elif 10_000_000 <= penghasilan <= 15_000_000:\n",
    "        return \"Laksamana\"\n",
    "    elif 5_000_000 <= penghasilan < 10_000_000:\n",
    "        return \"Jendral\"\n",
    "    elif 3_000_000 <= penghasilan < 5_000_000:\n",
    "        return \"Perwira\"\n",
    "    elif 500_000 <= penghasilan < 3_000_000:\n",
    "        return \"Tidak Kerja\"\n",
    "    else:\n",
    "        raise ValueError(\"Penghasilan tidak boleh negatif\")\n",
    "\n",
    "# Membaca input dari user dan menentukan jabatan\n",
    "for i in range(4):\n",
    "    try:\n",
    "        input_data = input(f\"Masukkan data untuk keluarga ke-{i+1} (format: Nama | Penghasilan): \")\n",
    "        nama, penghasilan_str = input_data.split('|')\n",
    "        penghasilan = float(penghasilan_str.strip())\n",
    "        \n",
    "        # Memanggil fungsi jabatan untuk menentukan status\n",
    "        kerja = jabatan(penghasilan)\n",
    "        \n",
    "        print(f\"Keluarga {nama.strip()} memiliki pekerjaan dengan jabatan: {kerja}\")\n",
    "    except ValueError as e:\n",
    "        print(f\"Terjadi kesalahan: {e}\")\n",
    "    except Exception as e:\n",
    "        print(f\"Terjadi kesalahan: {e}\")"
   ]
  }
 ],
 "metadata": {
  "kernelspec": {
   "display_name": "Python 3 (ipykernel)",
   "language": "python",
   "name": "python3"
  },
  "language_info": {
   "codemirror_mode": {
    "name": "ipython",
    "version": 3
   },
   "file_extension": ".py",
   "mimetype": "text/x-python",
   "name": "python",
   "nbconvert_exporter": "python",
   "pygments_lexer": "ipython3",
   "version": "3.11.4"
  }
 },
 "nbformat": 4,
 "nbformat_minor": 5
}
