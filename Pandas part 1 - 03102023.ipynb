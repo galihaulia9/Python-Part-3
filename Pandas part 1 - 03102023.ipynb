{
 "cells": [
  {
   "cell_type": "markdown",
   "id": "da2e3046",
   "metadata": {},
   "source": [
    "### Pandas"
   ]
  },
  {
   "cell_type": "markdown",
   "id": "ee4aa485",
   "metadata": {},
   "source": [
    "- Import the libraries that will be needed"
   ]
  },
  {
   "cell_type": "code",
   "execution_count": 6,
   "id": "f4f34e52",
   "metadata": {},
   "outputs": [],
   "source": [
    "import pandas as pd\n",
    "import numpy as np"
   ]
  },
  {
   "cell_type": "markdown",
   "id": "a815504b",
   "metadata": {},
   "source": [
    "Pandas has two objects, namely series and data frames."
   ]
  },
  {
   "cell_type": "markdown",
   "id": "11003437",
   "metadata": {},
   "source": [
    "### - Object Series"
   ]
  },
  {
   "cell_type": "markdown",
   "id": "d372332c",
   "metadata": {},
   "source": [
    "Series objects have one data dimension. It doesn't have a column name because it only has one column, and it has an index."
   ]
  },
  {
   "cell_type": "code",
   "execution_count": 2,
   "id": "87a7cb0c",
   "metadata": {},
   "outputs": [],
   "source": [
    "data = [0.25, 0.50, 0.75, 1]"
   ]
  },
  {
   "cell_type": "code",
   "execution_count": 3,
   "id": "da324949",
   "metadata": {},
   "outputs": [
    {
     "name": "stdout",
     "output_type": "stream",
     "text": [
      "[0.25, 0.5, 0.75, 1]\n"
     ]
    }
   ],
   "source": [
    "print(data)"
   ]
  },
  {
   "cell_type": "markdown",
   "id": "c4f14af9",
   "metadata": {},
   "source": [
    "- Convert data into series"
   ]
  },
  {
   "cell_type": "code",
   "execution_count": 4,
   "id": "1e8dd2b0",
   "metadata": {},
   "outputs": [],
   "source": [
    "data = pd.Series(data)"
   ]
  },
  {
   "cell_type": "code",
   "execution_count": 5,
   "id": "92741a8d",
   "metadata": {},
   "outputs": [
    {
     "data": {
      "text/plain": [
       "0    0.25\n",
       "1    0.50\n",
       "2    0.75\n",
       "3    1.00\n",
       "dtype: float64"
      ]
     },
     "execution_count": 5,
     "metadata": {},
     "output_type": "execute_result"
    }
   ],
   "source": [
    "data"
   ]
  },
  {
   "cell_type": "markdown",
   "id": "dfcc808f",
   "metadata": {},
   "source": [
    "TASK 1 - Making a list, convert to series form"
   ]
  },
  {
   "cell_type": "code",
   "execution_count": 10,
   "id": "5c10c0f2",
   "metadata": {},
   "outputs": [],
   "source": [
    "kel2 = [\"Daniel\", \"Fitri\", \"Aulia\", \"Dyah\", \"Arum\"]"
   ]
  },
  {
   "cell_type": "code",
   "execution_count": 11,
   "id": "c153fd5c",
   "metadata": {},
   "outputs": [
    {
     "name": "stdout",
     "output_type": "stream",
     "text": [
      "['Daniel', 'Fitri', 'Aulia', 'Dyah', 'Arum']\n"
     ]
    }
   ],
   "source": [
    "print(kel2)"
   ]
  },
  {
   "cell_type": "code",
   "execution_count": 12,
   "id": "2b2c1006",
   "metadata": {},
   "outputs": [],
   "source": [
    "kel2 = pd.Series(kel2)"
   ]
  },
  {
   "cell_type": "code",
   "execution_count": 13,
   "id": "3abb3824",
   "metadata": {},
   "outputs": [
    {
     "data": {
      "text/plain": [
       "0    Daniel\n",
       "1     Fitri\n",
       "2     Aulia\n",
       "3      Dyah\n",
       "4      Arum\n",
       "dtype: object"
      ]
     },
     "execution_count": 13,
     "metadata": {},
     "output_type": "execute_result"
    }
   ],
   "source": [
    "kel2"
   ]
  },
  {
   "cell_type": "markdown",
   "id": "e5fb45cc",
   "metadata": {},
   "source": [
    "- Convert from series to array"
   ]
  },
  {
   "cell_type": "code",
   "execution_count": 14,
   "id": "6e1f9a98",
   "metadata": {},
   "outputs": [
    {
     "data": {
      "text/plain": [
       "array([0.25, 0.5 , 0.75, 1.  ])"
      ]
     },
     "execution_count": 14,
     "metadata": {},
     "output_type": "execute_result"
    }
   ],
   "source": [
    "data.values"
   ]
  },
  {
   "cell_type": "markdown",
   "id": "1ce53a3c",
   "metadata": {},
   "source": [
    "- Display the index"
   ]
  },
  {
   "cell_type": "markdown",
   "id": "ed15a598",
   "metadata": {},
   "source": [
    "The index is a range, where the start point is inclusive of the range and the stop point is exclusive of the range."
   ]
  },
  {
   "cell_type": "code",
   "execution_count": 15,
   "id": "f4d0a515",
   "metadata": {},
   "outputs": [
    {
     "data": {
      "text/plain": [
       "RangeIndex(start=0, stop=4, step=1)"
      ]
     },
     "execution_count": 15,
     "metadata": {},
     "output_type": "execute_result"
    }
   ],
   "source": [
    "data.index"
   ]
  },
  {
   "cell_type": "code",
   "execution_count": 16,
   "id": "646bf8c7",
   "metadata": {},
   "outputs": [
    {
     "data": {
      "text/plain": [
       "[1, 2, 3, 4, 5, 6, 7, 8, 9]"
      ]
     },
     "execution_count": 16,
     "metadata": {},
     "output_type": "execute_result"
    }
   ],
   "source": [
    "list(range(1,10))"
   ]
  },
  {
   "cell_type": "markdown",
   "id": "596371c3",
   "metadata": {},
   "source": [
    "- How to call data"
   ]
  },
  {
   "cell_type": "code",
   "execution_count": 17,
   "id": "d0fa5691",
   "metadata": {},
   "outputs": [
    {
     "data": {
      "text/plain": [
       "0.75"
      ]
     },
     "execution_count": 17,
     "metadata": {},
     "output_type": "execute_result"
    }
   ],
   "source": [
    "data[2]"
   ]
  },
  {
   "cell_type": "markdown",
   "id": "3f48b089",
   "metadata": {},
   "source": [
    "TASK 2 - Convert series to array, display index, and slicing"
   ]
  },
  {
   "cell_type": "markdown",
   "id": "6515ca73",
   "metadata": {},
   "source": [
    "- View data from TASK 1"
   ]
  },
  {
   "cell_type": "code",
   "execution_count": 18,
   "id": "0cacd7ca",
   "metadata": {},
   "outputs": [
    {
     "data": {
      "text/plain": [
       "array(['Daniel', 'Fitri', 'Aulia', 'Dyah', 'Arum'], dtype=object)"
      ]
     },
     "execution_count": 18,
     "metadata": {},
     "output_type": "execute_result"
    }
   ],
   "source": [
    "kel2.values"
   ]
  },
  {
   "cell_type": "code",
   "execution_count": 19,
   "id": "e73dd2e4",
   "metadata": {},
   "outputs": [
    {
     "data": {
      "text/plain": [
       "RangeIndex(start=0, stop=5, step=1)"
      ]
     },
     "execution_count": 19,
     "metadata": {},
     "output_type": "execute_result"
    }
   ],
   "source": [
    "kel2.index"
   ]
  },
  {
   "cell_type": "code",
   "execution_count": 21,
   "id": "fa2c5d93",
   "metadata": {},
   "outputs": [
    {
     "data": {
      "text/plain": [
       "'Aulia'"
      ]
     },
     "execution_count": 21,
     "metadata": {},
     "output_type": "execute_result"
    }
   ],
   "source": [
    "kel2[2]"
   ]
  },
  {
   "cell_type": "markdown",
   "id": "2da20b42",
   "metadata": {},
   "source": [
    "- The implicit index is the default index.\n",
    "- We can define the index this is called an explicit index which is a defined index.\n",
    "- When defining an index, the number of indexes must be equal to the number of data."
   ]
  },
  {
   "cell_type": "code",
   "execution_count": 22,
   "id": "de4fc187",
   "metadata": {},
   "outputs": [],
   "source": [
    "data = pd.Series([0.25, 0.50, 0.75, 1], index = ['a', 'b', 'c', 'd'])"
   ]
  },
  {
   "cell_type": "code",
   "execution_count": 23,
   "id": "e6362daa",
   "metadata": {},
   "outputs": [
    {
     "data": {
      "text/plain": [
       "a    0.25\n",
       "b    0.50\n",
       "c    0.75\n",
       "d    1.00\n",
       "dtype: float64"
      ]
     },
     "execution_count": 23,
     "metadata": {},
     "output_type": "execute_result"
    }
   ],
   "source": [
    "data"
   ]
  },
  {
   "cell_type": "code",
   "execution_count": 24,
   "id": "0a91ed64",
   "metadata": {},
   "outputs": [
    {
     "data": {
      "text/plain": [
       "array([0.25, 0.5 , 0.75, 1.  ])"
      ]
     },
     "execution_count": 24,
     "metadata": {},
     "output_type": "execute_result"
    }
   ],
   "source": [
    "data.values"
   ]
  },
  {
   "cell_type": "code",
   "execution_count": 25,
   "id": "28440bc1",
   "metadata": {},
   "outputs": [
    {
     "data": {
      "text/plain": [
       "Index(['a', 'b', 'c', 'd'], dtype='object')"
      ]
     },
     "execution_count": 25,
     "metadata": {},
     "output_type": "execute_result"
    }
   ],
   "source": [
    "data.index"
   ]
  },
  {
   "cell_type": "markdown",
   "id": "d3cb6819",
   "metadata": {},
   "source": [
    "- Call the data"
   ]
  },
  {
   "cell_type": "code",
   "execution_count": 26,
   "id": "d39bbe83",
   "metadata": {},
   "outputs": [
    {
     "data": {
      "text/plain": [
       "0.25"
      ]
     },
     "execution_count": 26,
     "metadata": {},
     "output_type": "execute_result"
    }
   ],
   "source": [
    "# indeks eksplisit\n",
    "\n",
    "data['a']"
   ]
  },
  {
   "cell_type": "markdown",
   "id": "17fb09a3",
   "metadata": {},
   "source": [
    "- This is data selection"
   ]
  },
  {
   "cell_type": "markdown",
   "id": "c49e615e",
   "metadata": {},
   "source": [
    "Even though we have created an explicit index, we can still call the implicit index."
   ]
  },
  {
   "cell_type": "code",
   "execution_count": 27,
   "id": "389b6337",
   "metadata": {},
   "outputs": [
    {
     "data": {
      "text/plain": [
       "1.0"
      ]
     },
     "execution_count": 27,
     "metadata": {},
     "output_type": "execute_result"
    }
   ],
   "source": [
    "# indeks implisit\n",
    "\n",
    "data[3]"
   ]
  },
  {
   "cell_type": "markdown",
   "id": "fb415c72",
   "metadata": {},
   "source": [
    "TASK 3 - Making index eksplisit (defined index), display index, call the index eksplisit and implisit"
   ]
  },
  {
   "cell_type": "code",
   "execution_count": 38,
   "id": "65cf0165",
   "metadata": {},
   "outputs": [
    {
     "data": {
      "text/plain": [
       "a    Daniel\n",
       "b     Fitri\n",
       "c     Aulia\n",
       "d      Dyah\n",
       "e      Arum\n",
       "dtype: object"
      ]
     },
     "execution_count": 38,
     "metadata": {},
     "output_type": "execute_result"
    }
   ],
   "source": [
    "kel2 = pd.Series([\"Daniel\", \"Fitri\", \"Aulia\", \"Dyah\", \"Arum\"], index = ['a', 'b', 'c', 'd', 'e']) \n",
    "\n",
    "kel2"
   ]
  },
  {
   "cell_type": "code",
   "execution_count": 39,
   "id": "455e4d1f",
   "metadata": {},
   "outputs": [
    {
     "data": {
      "text/plain": [
       "Index(['a', 'b', 'c', 'd', 'e'], dtype='object')"
      ]
     },
     "execution_count": 39,
     "metadata": {},
     "output_type": "execute_result"
    }
   ],
   "source": [
    "kel2.index"
   ]
  },
  {
   "cell_type": "code",
   "execution_count": 40,
   "id": "a39ae708",
   "metadata": {},
   "outputs": [
    {
     "data": {
      "text/plain": [
       "'Aulia'"
      ]
     },
     "execution_count": 40,
     "metadata": {},
     "output_type": "execute_result"
    }
   ],
   "source": [
    "# indeks eksplisit\n",
    "\n",
    "kel2['c']"
   ]
  },
  {
   "cell_type": "code",
   "execution_count": 41,
   "id": "e59133b9",
   "metadata": {},
   "outputs": [
    {
     "data": {
      "text/plain": [
       "'Aulia'"
      ]
     },
     "execution_count": 41,
     "metadata": {},
     "output_type": "execute_result"
    }
   ],
   "source": [
    "# indeks implisit\n",
    "\n",
    "kel2[2]"
   ]
  },
  {
   "cell_type": "markdown",
   "id": "5920936e",
   "metadata": {},
   "source": [
    "When the implicit and explicit indexes are the same. When we call the data, it will only rely on the explicit index."
   ]
  },
  {
   "cell_type": "code",
   "execution_count": 42,
   "id": "add2a9a8",
   "metadata": {},
   "outputs": [],
   "source": [
    "data_2 = pd.Series([0.25, 0.50, 0.75, 1], index = [2,5,3,7])"
   ]
  },
  {
   "cell_type": "code",
   "execution_count": 43,
   "id": "7feb658c",
   "metadata": {},
   "outputs": [
    {
     "data": {
      "text/plain": [
       "0.25"
      ]
     },
     "execution_count": 43,
     "metadata": {},
     "output_type": "execute_result"
    }
   ],
   "source": [
    "data_2[2]"
   ]
  },
  {
   "cell_type": "code",
   "execution_count": null,
   "id": "db99ff2f",
   "metadata": {},
   "outputs": [],
   "source": [
    "data_2[0] # error, karena tidak ada yang sama"
   ]
  },
  {
   "cell_type": "markdown",
   "id": "f99277a2",
   "metadata": {},
   "source": [
    "TASK 4 - Making series content 10 element, explicit index (defined index) that has something in common with its implicit counterpart, call eksplisit and implisit index"
   ]
  },
  {
   "cell_type": "code",
   "execution_count": 7,
   "id": "3dea1dc6",
   "metadata": {},
   "outputs": [
    {
     "data": {
      "text/plain": [
       "1     1.0\n",
       "2     1.5\n",
       "3     2.0\n",
       "4     2.5\n",
       "5     3.0\n",
       "6     3.5\n",
       "7     4.0\n",
       "8     4.5\n",
       "9     5.0\n",
       "10    5.5\n",
       "dtype: float64"
      ]
     },
     "execution_count": 7,
     "metadata": {},
     "output_type": "execute_result"
    }
   ],
   "source": [
    "angka = pd.Series([1, 1.5, 2, 2.5, 3, 3.5, 4, 4.5, 5, 5.5], index = [1, 2, 3, 4, 5, 6, 7, 8, 9, 10])\n",
    "angka"
   ]
  },
  {
   "cell_type": "code",
   "execution_count": 9,
   "id": "ac5fb973",
   "metadata": {},
   "outputs": [
    {
     "data": {
      "text/plain": [
       "4.5"
      ]
     },
     "execution_count": 9,
     "metadata": {},
     "output_type": "execute_result"
    }
   ],
   "source": [
    "# indeks eksplisit\n",
    "angka[8]"
   ]
  },
  {
   "cell_type": "code",
   "execution_count": null,
   "id": "f376e631",
   "metadata": {},
   "outputs": [],
   "source": [
    "# indeks implisit\n",
    "angka[11] # error, karena tidak ada yang sama"
   ]
  },
  {
   "cell_type": "markdown",
   "id": "7b685ac8",
   "metadata": {},
   "source": [
    "We will try to do data slicing"
   ]
  },
  {
   "cell_type": "code",
   "execution_count": 13,
   "id": "d7131659",
   "metadata": {},
   "outputs": [],
   "source": [
    "data = pd.Series([0.25, 0.50, 0.75, 1], index = ['a', 'b', 'c', 'd'])"
   ]
  },
  {
   "cell_type": "code",
   "execution_count": 14,
   "id": "dfffbec8",
   "metadata": {},
   "outputs": [
    {
     "data": {
      "text/plain": [
       "a    0.25\n",
       "b    0.50\n",
       "c    0.75\n",
       "d    1.00\n",
       "dtype: float64"
      ]
     },
     "execution_count": 14,
     "metadata": {},
     "output_type": "execute_result"
    }
   ],
   "source": [
    "data"
   ]
  },
  {
   "cell_type": "markdown",
   "id": "e50eb91c",
   "metadata": {},
   "source": [
    "For example, we will call from data b to data c"
   ]
  },
  {
   "cell_type": "code",
   "execution_count": 15,
   "id": "a5136c61",
   "metadata": {},
   "outputs": [
    {
     "data": {
      "text/plain": [
       "b    0.50\n",
       "c    0.75\n",
       "dtype: float64"
      ]
     },
     "execution_count": 15,
     "metadata": {},
     "output_type": "execute_result"
    }
   ],
   "source": [
    "data['b' : 'c'] # indeks eskplisit"
   ]
  },
  {
   "cell_type": "markdown",
   "id": "7e5734c5",
   "metadata": {},
   "source": [
    "But if we slice the implicit index, it will only show the starting point because the implicit index is a range."
   ]
  },
  {
   "cell_type": "code",
   "execution_count": 16,
   "id": "758a738d",
   "metadata": {},
   "outputs": [
    {
     "data": {
      "text/plain": [
       "b    0.5\n",
       "dtype: float64"
      ]
     },
     "execution_count": 16,
     "metadata": {},
     "output_type": "execute_result"
    }
   ],
   "source": [
    "data[1 : 2] # indeks implisit"
   ]
  },
  {
   "cell_type": "markdown",
   "id": "49b1f74c",
   "metadata": {},
   "source": [
    "TASK 5 - Making index eksplisit, slicing eksplisit and implisit use 2 to 3 params"
   ]
  },
  {
   "cell_type": "code",
   "execution_count": 17,
   "id": "091d89bd",
   "metadata": {},
   "outputs": [
    {
     "data": {
      "text/plain": [
       "a    1.0\n",
       "b    1.5\n",
       "c    2.0\n",
       "d    2.5\n",
       "e    3.0\n",
       "f    3.5\n",
       "g    4.0\n",
       "h    4.5\n",
       "i    5.0\n",
       "j    5.5\n",
       "dtype: float64"
      ]
     },
     "execution_count": 17,
     "metadata": {},
     "output_type": "execute_result"
    }
   ],
   "source": [
    "angka = pd.Series([1, 1.5, 2, 2.5, 3, 3.5, 4, 4.5, 5, 5.5], index = ['a', 'b', 'c', 'd', 'e', 'f', 'g', 'h', 'i', 'j'])\n",
    "angka"
   ]
  },
  {
   "cell_type": "code",
   "execution_count": 19,
   "id": "a60d1cd0",
   "metadata": {},
   "outputs": [
    {
     "data": {
      "text/plain": [
       "g    4.0\n",
       "h    4.5\n",
       "i    5.0\n",
       "dtype: float64"
      ]
     },
     "execution_count": 19,
     "metadata": {},
     "output_type": "execute_result"
    }
   ],
   "source": [
    "angka['g' : 'i'] # indeks eskplisit"
   ]
  },
  {
   "cell_type": "code",
   "execution_count": 27,
   "id": "41559f81",
   "metadata": {},
   "outputs": [
    {
     "data": {
      "text/plain": [
       "b    1.5\n",
       "c    2.0\n",
       "d    2.5\n",
       "e    3.0\n",
       "f    3.5\n",
       "dtype: float64"
      ]
     },
     "execution_count": 27,
     "metadata": {},
     "output_type": "execute_result"
    }
   ],
   "source": [
    "angka[1 : 6] # slicing implisit 2 param"
   ]
  },
  {
   "cell_type": "code",
   "execution_count": 28,
   "id": "1d82372c",
   "metadata": {},
   "outputs": [
    {
     "data": {
      "text/plain": [
       "b    1.5\n",
       "e    3.0\n",
       "dtype: float64"
      ]
     },
     "execution_count": 28,
     "metadata": {},
     "output_type": "execute_result"
    }
   ],
   "source": [
    "angka[1 : 6 : 3] # slicing implisit 3 param"
   ]
  }
 ],
 "metadata": {
  "kernelspec": {
   "display_name": "Python 3 (ipykernel)",
   "language": "python",
   "name": "python3"
  },
  "language_info": {
   "codemirror_mode": {
    "name": "ipython",
    "version": 3
   },
   "file_extension": ".py",
   "mimetype": "text/x-python",
   "name": "python",
   "nbconvert_exporter": "python",
   "pygments_lexer": "ipython3",
   "version": "3.11.4"
  }
 },
 "nbformat": 4,
 "nbformat_minor": 5
}
