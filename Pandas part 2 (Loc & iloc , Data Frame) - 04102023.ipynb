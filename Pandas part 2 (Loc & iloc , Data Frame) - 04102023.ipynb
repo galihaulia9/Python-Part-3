{
 "cells": [
  {
   "cell_type": "markdown",
   "id": "dde8ece4",
   "metadata": {},
   "source": [
    "### Loc and iloc (location & indeks location)"
   ]
  },
  {
   "cell_type": "markdown",
   "id": "2dac375f",
   "metadata": {},
   "source": [
    "Example of data where the implicit and explicit indices are the same"
   ]
  },
  {
   "cell_type": "code",
   "execution_count": 1,
   "id": "7055ea0b",
   "metadata": {},
   "outputs": [],
   "source": [
    "import pandas as pd\n",
    "import numpy as np"
   ]
  },
  {
   "cell_type": "code",
   "execution_count": 2,
   "id": "8c21816a",
   "metadata": {},
   "outputs": [],
   "source": [
    "data_2 = pd.Series([0.25, 0.50, 0.75, 1], index = [2,5,3,7])"
   ]
  },
  {
   "cell_type": "code",
   "execution_count": 3,
   "id": "9a9a718a",
   "metadata": {},
   "outputs": [
    {
     "data": {
      "text/plain": [
       "2    0.25\n",
       "5    0.50\n",
       "3    0.75\n",
       "7    1.00\n",
       "dtype: float64"
      ]
     },
     "execution_count": 3,
     "metadata": {},
     "output_type": "execute_result"
    }
   ],
   "source": [
    "data_2"
   ]
  },
  {
   "cell_type": "markdown",
   "id": "3c46eade",
   "metadata": {},
   "source": [
    "When we access an index, the explicit index appears"
   ]
  },
  {
   "cell_type": "code",
   "execution_count": 4,
   "id": "a817de03",
   "metadata": {},
   "outputs": [
    {
     "data": {
      "text/plain": [
       "0.25"
      ]
     },
     "execution_count": 4,
     "metadata": {},
     "output_type": "execute_result"
    }
   ],
   "source": [
    "data_2[2] # indeks eksplisit : selecting"
   ]
  },
  {
   "cell_type": "code",
   "execution_count": 5,
   "id": "a103dc71",
   "metadata": {},
   "outputs": [
    {
     "data": {
      "text/plain": [
       "3    0.75\n",
       "dtype: float64"
      ]
     },
     "execution_count": 5,
     "metadata": {},
     "output_type": "execute_result"
    }
   ],
   "source": [
    "data_2[2 : 3] # indeks implisit : slicing"
   ]
  },
  {
   "cell_type": "markdown",
   "id": "e3d65eca",
   "metadata": {},
   "source": [
    "- When the explicit index and implicit index are the same, there will be inconsistencies like the case above.\n",
    "- To solve the inconsistency situation, we will use loc and iloc rules.\n",
    "- loc is to call the explicit index.\n",
    "- iloc is to call the implicit index."
   ]
  },
  {
   "cell_type": "code",
   "execution_count": 6,
   "id": "2442d5d7",
   "metadata": {},
   "outputs": [
    {
     "data": {
      "text/plain": [
       "0.75"
      ]
     },
     "execution_count": 6,
     "metadata": {},
     "output_type": "execute_result"
    }
   ],
   "source": [
    "# Loc\n",
    "\n",
    "data_2.loc[3] # selecting indeks eksplisit"
   ]
  },
  {
   "cell_type": "code",
   "execution_count": 7,
   "id": "5438455f",
   "metadata": {},
   "outputs": [
    {
     "data": {
      "text/plain": [
       "2    0.25\n",
       "5    0.50\n",
       "3    0.75\n",
       "dtype: float64"
      ]
     },
     "execution_count": 7,
     "metadata": {},
     "output_type": "execute_result"
    }
   ],
   "source": [
    "data_2.loc[2 : 3] # slicing indeks implisit"
   ]
  },
  {
   "cell_type": "code",
   "execution_count": 9,
   "id": "11eb0e4e",
   "metadata": {},
   "outputs": [
    {
     "data": {
      "text/plain": [
       "1.0"
      ]
     },
     "execution_count": 9,
     "metadata": {},
     "output_type": "execute_result"
    }
   ],
   "source": [
    "# iloc\n",
    "\n",
    "data_2.iloc[3] # selecting indeks eksplisit"
   ]
  },
  {
   "cell_type": "code",
   "execution_count": 10,
   "id": "79a256dd",
   "metadata": {},
   "outputs": [
    {
     "data": {
      "text/plain": [
       "3    0.75\n",
       "dtype: float64"
      ]
     },
     "execution_count": 10,
     "metadata": {},
     "output_type": "execute_result"
    }
   ],
   "source": [
    "data_2.iloc[2 : 3] # slicing indeks implisit"
   ]
  },
  {
   "cell_type": "markdown",
   "id": "c267a1e8",
   "metadata": {},
   "source": [
    "TASK 1 - Making series, explicit index must be same as python index, call loc & iloc"
   ]
  },
  {
   "cell_type": "code",
   "execution_count": 11,
   "id": "5b004c7b",
   "metadata": {},
   "outputs": [
    {
     "data": {
      "text/plain": [
       "2     1.0\n",
       "3     1.5\n",
       "4     2.0\n",
       "5     2.5\n",
       "6     3.0\n",
       "7     3.5\n",
       "8     4.0\n",
       "9     4.5\n",
       "10    5.0\n",
       "dtype: float64"
      ]
     },
     "execution_count": 11,
     "metadata": {},
     "output_type": "execute_result"
    }
   ],
   "source": [
    "angka = pd.Series([1, 1.5, 2, 2.5, 3, 3.5, 4, 4.5, 5], index = [2, 3, 4, 5, 6, 7, 8, 9, 10])\n",
    "angka"
   ]
  },
  {
   "cell_type": "code",
   "execution_count": 12,
   "id": "bccec227",
   "metadata": {},
   "outputs": [
    {
     "data": {
      "text/plain": [
       "3.0"
      ]
     },
     "execution_count": 12,
     "metadata": {},
     "output_type": "execute_result"
    }
   ],
   "source": [
    "# Loc\n",
    "\n",
    "angka.loc[6] # selecting indeks eksplisit"
   ]
  },
  {
   "cell_type": "code",
   "execution_count": 15,
   "id": "6e46b451",
   "metadata": {},
   "outputs": [
    {
     "data": {
      "text/plain": [
       "3    1.5\n",
       "4    2.0\n",
       "5    2.5\n",
       "6    3.0\n",
       "dtype: float64"
      ]
     },
     "execution_count": 15,
     "metadata": {},
     "output_type": "execute_result"
    }
   ],
   "source": [
    "angka.loc[3 : 6] # slicing indeks eksplisit"
   ]
  },
  {
   "cell_type": "code",
   "execution_count": 16,
   "id": "7da5c272",
   "metadata": {},
   "outputs": [
    {
     "data": {
      "text/plain": [
       "4.0"
      ]
     },
     "execution_count": 16,
     "metadata": {},
     "output_type": "execute_result"
    }
   ],
   "source": [
    "# iloc\n",
    "\n",
    "angka.iloc[6] # selecting indeks implisit"
   ]
  },
  {
   "cell_type": "code",
   "execution_count": 17,
   "id": "8f50b80f",
   "metadata": {},
   "outputs": [
    {
     "data": {
      "text/plain": [
       "5    2.5\n",
       "6    3.0\n",
       "7    3.5\n",
       "dtype: float64"
      ]
     },
     "execution_count": 17,
     "metadata": {},
     "output_type": "execute_result"
    }
   ],
   "source": [
    "angka.iloc[3 : 6] # slicing indeks implisit"
   ]
  },
  {
   "cell_type": "markdown",
   "id": "89c3003f",
   "metadata": {},
   "source": [
    "Example of Dictionary converted to Series"
   ]
  },
  {
   "cell_type": "code",
   "execution_count": 26,
   "id": "4f6885a3",
   "metadata": {},
   "outputs": [],
   "source": [
    "dict_populasi = {'Jakarta' : 750,\n",
    "                 'Bogor' : 490,\n",
    "                 'Depok' : 350,\n",
    "                 'Tanggerang' : 270,\n",
    "                 'Bekasi' : 670}\n",
    "\n",
    "#ini hanya permisalan, bukan angka populasi yang sesungguhnya"
   ]
  },
  {
   "cell_type": "code",
   "execution_count": 27,
   "id": "66252a0c",
   "metadata": {},
   "outputs": [
    {
     "data": {
      "text/plain": [
       "{'Jakarta': 750, 'Bogor': 490, 'Depok': 350, 'Tanggerang': 270, 'Bekasi': 670}"
      ]
     },
     "execution_count": 27,
     "metadata": {},
     "output_type": "execute_result"
    }
   ],
   "source": [
    "dict_populasi"
   ]
  },
  {
   "cell_type": "code",
   "execution_count": 28,
   "id": "2f01102f",
   "metadata": {},
   "outputs": [
    {
     "data": {
      "text/plain": [
       "Jakarta       750\n",
       "Bogor         490\n",
       "Depok         350\n",
       "Tanggerang    270\n",
       "Bekasi        670\n",
       "dtype: int64"
      ]
     },
     "execution_count": 28,
     "metadata": {},
     "output_type": "execute_result"
    }
   ],
   "source": [
    "# transformasi dictionary ke series\n",
    "\n",
    "populasi = pd.Series(dict_populasi)\n",
    "populasi"
   ]
  },
  {
   "cell_type": "code",
   "execution_count": 29,
   "id": "53076c0d",
   "metadata": {},
   "outputs": [
    {
     "data": {
      "text/plain": [
       "350"
      ]
     },
     "execution_count": 29,
     "metadata": {},
     "output_type": "execute_result"
    }
   ],
   "source": [
    "populasi.loc['Depok']"
   ]
  },
  {
   "cell_type": "code",
   "execution_count": 30,
   "id": "5d53ae1f",
   "metadata": {},
   "outputs": [
    {
     "data": {
      "text/plain": [
       "350"
      ]
     },
     "execution_count": 30,
     "metadata": {},
     "output_type": "execute_result"
    }
   ],
   "source": [
    "populasi.iloc[2]"
   ]
  },
  {
   "cell_type": "markdown",
   "id": "e7634a64",
   "metadata": {},
   "source": [
    "TASK 2 - Making series from dictionary, call loc & iloc"
   ]
  },
  {
   "cell_type": "code",
   "execution_count": 31,
   "id": "b242111f",
   "metadata": {},
   "outputs": [],
   "source": [
    "dict_buah = {'Alpukat' : 20,\n",
    "             'Mangga' : 15,\n",
    "             'Belimbing' : 30,\n",
    "             'Jeruk' : 25,\n",
    "             'Melon' : 35}"
   ]
  },
  {
   "cell_type": "code",
   "execution_count": 32,
   "id": "8ba64120",
   "metadata": {},
   "outputs": [
    {
     "data": {
      "text/plain": [
       "{'Alpukat': 20, 'Mangga': 15, 'Belimbing': 30, 'Jeruk': 25, 'Melon': 35}"
      ]
     },
     "execution_count": 32,
     "metadata": {},
     "output_type": "execute_result"
    }
   ],
   "source": [
    "dict_buah"
   ]
  },
  {
   "cell_type": "code",
   "execution_count": 33,
   "id": "05fd60a7",
   "metadata": {},
   "outputs": [
    {
     "data": {
      "text/plain": [
       "Alpukat      20\n",
       "Mangga       15\n",
       "Belimbing    30\n",
       "Jeruk        25\n",
       "Melon        35\n",
       "dtype: int64"
      ]
     },
     "execution_count": 33,
     "metadata": {},
     "output_type": "execute_result"
    }
   ],
   "source": [
    "# transformasi dictionary ke series\n",
    "\n",
    "buah = pd.Series(dict_buah)\n",
    "buah"
   ]
  },
  {
   "cell_type": "code",
   "execution_count": 34,
   "id": "15902166",
   "metadata": {},
   "outputs": [
    {
     "data": {
      "text/plain": [
       "15"
      ]
     },
     "execution_count": 34,
     "metadata": {},
     "output_type": "execute_result"
    }
   ],
   "source": [
    "buah.loc['Mangga']"
   ]
  },
  {
   "cell_type": "code",
   "execution_count": 35,
   "id": "5737ccb9",
   "metadata": {},
   "outputs": [
    {
     "data": {
      "text/plain": [
       "15"
      ]
     },
     "execution_count": 35,
     "metadata": {},
     "output_type": "execute_result"
    }
   ],
   "source": [
    "buah.iloc[1]"
   ]
  },
  {
   "cell_type": "code",
   "execution_count": 36,
   "id": "434602b1",
   "metadata": {},
   "outputs": [],
   "source": [
    "dict_luas = {'Jakarta' : 737,\n",
    "             'Bogor' : 325,\n",
    "             'Depok' : 247,\n",
    "             'Tanggerang' : 302,\n",
    "             'Bekasi' : 355}\n",
    "\n",
    "#ini hanya permisalan, bukan angka populasi yang sesungguhnya"
   ]
  },
  {
   "cell_type": "code",
   "execution_count": 37,
   "id": "d29368df",
   "metadata": {},
   "outputs": [
    {
     "data": {
      "text/plain": [
       "Jakarta       737\n",
       "Bogor         325\n",
       "Depok         247\n",
       "Tanggerang    302\n",
       "Bekasi        355\n",
       "dtype: int64"
      ]
     },
     "execution_count": 37,
     "metadata": {},
     "output_type": "execute_result"
    }
   ],
   "source": [
    "luas = pd.Series(dict_luas)\n",
    "luas"
   ]
  },
  {
   "cell_type": "markdown",
   "id": "66bd2632",
   "metadata": {},
   "source": [
    "### - Data Frame"
   ]
  },
  {
   "cell_type": "markdown",
   "id": "0ec6afc8",
   "metadata": {},
   "source": [
    "Data Frame is a collection of series with at least one series."
   ]
  },
  {
   "cell_type": "code",
   "execution_count": 38,
   "id": "42cab433",
   "metadata": {},
   "outputs": [
    {
     "data": {
      "text/html": [
       "<div>\n",
       "<style scoped>\n",
       "    .dataframe tbody tr th:only-of-type {\n",
       "        vertical-align: middle;\n",
       "    }\n",
       "\n",
       "    .dataframe tbody tr th {\n",
       "        vertical-align: top;\n",
       "    }\n",
       "\n",
       "    .dataframe thead th {\n",
       "        text-align: right;\n",
       "    }\n",
       "</style>\n",
       "<table border=\"1\" class=\"dataframe\">\n",
       "  <thead>\n",
       "    <tr style=\"text-align: right;\">\n",
       "      <th></th>\n",
       "      <th>pop</th>\n",
       "      <th>luas daerah</th>\n",
       "    </tr>\n",
       "  </thead>\n",
       "  <tbody>\n",
       "    <tr>\n",
       "      <th>Jakarta</th>\n",
       "      <td>750</td>\n",
       "      <td>737</td>\n",
       "    </tr>\n",
       "    <tr>\n",
       "      <th>Bogor</th>\n",
       "      <td>490</td>\n",
       "      <td>325</td>\n",
       "    </tr>\n",
       "    <tr>\n",
       "      <th>Depok</th>\n",
       "      <td>350</td>\n",
       "      <td>247</td>\n",
       "    </tr>\n",
       "    <tr>\n",
       "      <th>Tanggerang</th>\n",
       "      <td>270</td>\n",
       "      <td>302</td>\n",
       "    </tr>\n",
       "    <tr>\n",
       "      <th>Bekasi</th>\n",
       "      <td>670</td>\n",
       "      <td>355</td>\n",
       "    </tr>\n",
       "  </tbody>\n",
       "</table>\n",
       "</div>"
      ],
      "text/plain": [
       "            pop  luas daerah\n",
       "Jakarta     750          737\n",
       "Bogor       490          325\n",
       "Depok       350          247\n",
       "Tanggerang  270          302\n",
       "Bekasi      670          355"
      ]
     },
     "execution_count": 38,
     "metadata": {},
     "output_type": "execute_result"
    }
   ],
   "source": [
    "daerah = pd.DataFrame({'pop' : populasi, 'luas daerah' : luas})\n",
    "daerah"
   ]
  },
  {
   "cell_type": "code",
   "execution_count": 40,
   "id": "32b401a1",
   "metadata": {},
   "outputs": [
    {
     "data": {
      "text/plain": [
       "Jakarta       737\n",
       "Bogor         325\n",
       "Depok         247\n",
       "Tanggerang    302\n",
       "Bekasi        355\n",
       "Name: luas daerah, dtype: int64"
      ]
     },
     "execution_count": 40,
     "metadata": {},
     "output_type": "execute_result"
    }
   ],
   "source": [
    "daerah['luas daerah'] "
   ]
  },
  {
   "cell_type": "code",
   "execution_count": 39,
   "id": "f3f5d7b1",
   "metadata": {},
   "outputs": [
    {
     "data": {
      "text/plain": [
       "737"
      ]
     },
     "execution_count": 39,
     "metadata": {},
     "output_type": "execute_result"
    }
   ],
   "source": [
    "daerah['luas daerah'] ['Jakarta']"
   ]
  },
  {
   "cell_type": "markdown",
   "id": "cb3ccc58",
   "metadata": {},
   "source": [
    "When calling data with the syntax region.pop will appear as below. Because pop is the same as the function name in the data frame."
   ]
  },
  {
   "cell_type": "code",
   "execution_count": 41,
   "id": "feb086b8",
   "metadata": {},
   "outputs": [
    {
     "data": {
      "text/plain": [
       "<bound method DataFrame.pop of             pop  luas daerah\n",
       "Jakarta     750          737\n",
       "Bogor       490          325\n",
       "Depok       350          247\n",
       "Tanggerang  270          302\n",
       "Bekasi      670          355>"
      ]
     },
     "execution_count": 41,
     "metadata": {},
     "output_type": "execute_result"
    }
   ],
   "source": [
    "daerah.pop"
   ]
  },
  {
   "cell_type": "markdown",
   "id": "cb43ab9a",
   "metadata": {},
   "source": [
    "Then it is safer to call the data with the syntax daerah[\"population\"]"
   ]
  },
  {
   "cell_type": "code",
   "execution_count": 56,
   "id": "cab03572",
   "metadata": {},
   "outputs": [
    {
     "data": {
      "text/plain": [
       "Jakarta       750\n",
       "Bogor         490\n",
       "Depok         350\n",
       "Tanggerang    270\n",
       "Bekasi        670\n",
       "Name: pop, dtype: int64"
      ]
     },
     "execution_count": 56,
     "metadata": {},
     "output_type": "execute_result"
    }
   ],
   "source": [
    "daerah['pop']"
   ]
  },
  {
   "cell_type": "markdown",
   "id": "8de3c6d3",
   "metadata": {},
   "source": [
    "We rename the pop column to population"
   ]
  },
  {
   "cell_type": "code",
   "execution_count": 57,
   "id": "807c64b4",
   "metadata": {},
   "outputs": [
    {
     "data": {
      "text/html": [
       "<div>\n",
       "<style scoped>\n",
       "    .dataframe tbody tr th:only-of-type {\n",
       "        vertical-align: middle;\n",
       "    }\n",
       "\n",
       "    .dataframe tbody tr th {\n",
       "        vertical-align: top;\n",
       "    }\n",
       "\n",
       "    .dataframe thead th {\n",
       "        text-align: right;\n",
       "    }\n",
       "</style>\n",
       "<table border=\"1\" class=\"dataframe\">\n",
       "  <thead>\n",
       "    <tr style=\"text-align: right;\">\n",
       "      <th></th>\n",
       "      <th>populasi</th>\n",
       "      <th>luas</th>\n",
       "    </tr>\n",
       "  </thead>\n",
       "  <tbody>\n",
       "    <tr>\n",
       "      <th>Jakarta</th>\n",
       "      <td>750</td>\n",
       "      <td>737</td>\n",
       "    </tr>\n",
       "    <tr>\n",
       "      <th>Bogor</th>\n",
       "      <td>490</td>\n",
       "      <td>325</td>\n",
       "    </tr>\n",
       "    <tr>\n",
       "      <th>Depok</th>\n",
       "      <td>350</td>\n",
       "      <td>247</td>\n",
       "    </tr>\n",
       "    <tr>\n",
       "      <th>Tanggerang</th>\n",
       "      <td>270</td>\n",
       "      <td>302</td>\n",
       "    </tr>\n",
       "    <tr>\n",
       "      <th>Bekasi</th>\n",
       "      <td>670</td>\n",
       "      <td>355</td>\n",
       "    </tr>\n",
       "  </tbody>\n",
       "</table>\n",
       "</div>"
      ],
      "text/plain": [
       "            populasi  luas\n",
       "Jakarta          750   737\n",
       "Bogor            490   325\n",
       "Depok            350   247\n",
       "Tanggerang       270   302\n",
       "Bekasi           670   355"
      ]
     },
     "execution_count": 57,
     "metadata": {},
     "output_type": "execute_result"
    }
   ],
   "source": [
    "daerah = pd.DataFrame({'populasi' : populasi, 'luas' : luas})\n",
    "daerah"
   ]
  },
  {
   "cell_type": "code",
   "execution_count": 58,
   "id": "99f4de0c",
   "metadata": {},
   "outputs": [
    {
     "data": {
      "text/plain": [
       "Jakarta       750\n",
       "Bogor         490\n",
       "Depok         350\n",
       "Tanggerang    270\n",
       "Bekasi        670\n",
       "Name: populasi, dtype: int64"
      ]
     },
     "execution_count": 58,
     "metadata": {},
     "output_type": "execute_result"
    }
   ],
   "source": [
    "daerah['populasi']"
   ]
  },
  {
   "cell_type": "code",
   "execution_count": 59,
   "id": "70d24a7d",
   "metadata": {},
   "outputs": [
    {
     "data": {
      "text/plain": [
       "Jakarta    750\n",
       "Bogor      490\n",
       "Depok      350\n",
       "Name: populasi, dtype: int64"
      ]
     },
     "execution_count": 59,
     "metadata": {},
     "output_type": "execute_result"
    }
   ],
   "source": [
    "daerah['populasi']['Jakarta' : 'Depok'] # indeks eksplisit"
   ]
  },
  {
   "cell_type": "code",
   "execution_count": 60,
   "id": "12c001d9",
   "metadata": {},
   "outputs": [
    {
     "data": {
      "text/plain": [
       "Jakarta    750\n",
       "Bogor      490\n",
       "Depok      350\n",
       "Name: populasi, dtype: int64"
      ]
     },
     "execution_count": 60,
     "metadata": {},
     "output_type": "execute_result"
    }
   ],
   "source": [
    "daerah['populasi'].iloc[0 : 3] # indeks implisit"
   ]
  },
  {
   "cell_type": "markdown",
   "id": "357837cf",
   "metadata": {},
   "source": [
    "TASK 3 - Making 3 series, convert into Data Frame form, call index"
   ]
  },
  {
   "cell_type": "code",
   "execution_count": 42,
   "id": "d3d8d845",
   "metadata": {},
   "outputs": [],
   "source": [
    "dict_buah = {'Alpukat' : 20,\n",
    "             'Mangga' : 15,\n",
    "             'Belimbing' : 30,\n",
    "             'Jeruk' : 25,\n",
    "             'Melon' : 35}"
   ]
  },
  {
   "cell_type": "code",
   "execution_count": 43,
   "id": "76318c8b",
   "metadata": {},
   "outputs": [
    {
     "data": {
      "text/plain": [
       "Alpukat      20\n",
       "Mangga       15\n",
       "Belimbing    30\n",
       "Jeruk        25\n",
       "Melon        35\n",
       "dtype: int64"
      ]
     },
     "execution_count": 43,
     "metadata": {},
     "output_type": "execute_result"
    }
   ],
   "source": [
    "buah = pd.Series(dict_buah)\n",
    "buah"
   ]
  },
  {
   "cell_type": "code",
   "execution_count": 44,
   "id": "468dff1a",
   "metadata": {},
   "outputs": [],
   "source": [
    "harga_buah = {'Alpukat' : 15000,\n",
    "             'Mangga' : 36000,\n",
    "             'Belimbing' : 27000,\n",
    "             'Jeruk' : 20000,\n",
    "             'Melon' : 32000}"
   ]
  },
  {
   "cell_type": "code",
   "execution_count": 45,
   "id": "b0c4d103",
   "metadata": {},
   "outputs": [
    {
     "data": {
      "text/plain": [
       "Alpukat      15000\n",
       "Mangga       36000\n",
       "Belimbing    27000\n",
       "Jeruk        20000\n",
       "Melon        32000\n",
       "dtype: int64"
      ]
     },
     "execution_count": 45,
     "metadata": {},
     "output_type": "execute_result"
    }
   ],
   "source": [
    "harga = pd.Series(harga_buah)\n",
    "harga"
   ]
  },
  {
   "cell_type": "code",
   "execution_count": 46,
   "id": "4110a818",
   "metadata": {},
   "outputs": [],
   "source": [
    "KG = {'Alpukat' : 3,\n",
    "      'Mangga' : 5,\n",
    "      'Belimbing' : 3,\n",
    "      'Jeruk' : 1,\n",
    "      'Melon' : 2}"
   ]
  },
  {
   "cell_type": "code",
   "execution_count": 47,
   "id": "3e858c1c",
   "metadata": {},
   "outputs": [
    {
     "data": {
      "text/plain": [
       "Alpukat      3\n",
       "Mangga       5\n",
       "Belimbing    3\n",
       "Jeruk        1\n",
       "Melon        2\n",
       "dtype: int64"
      ]
     },
     "execution_count": 47,
     "metadata": {},
     "output_type": "execute_result"
    }
   ],
   "source": [
    "satuan = pd.Series(KG)\n",
    "satuan"
   ]
  },
  {
   "cell_type": "code",
   "execution_count": 53,
   "id": "6cb6c9c7",
   "metadata": {},
   "outputs": [
    {
     "data": {
      "text/html": [
       "<div>\n",
       "<style scoped>\n",
       "    .dataframe tbody tr th:only-of-type {\n",
       "        vertical-align: middle;\n",
       "    }\n",
       "\n",
       "    .dataframe tbody tr th {\n",
       "        vertical-align: top;\n",
       "    }\n",
       "\n",
       "    .dataframe thead th {\n",
       "        text-align: right;\n",
       "    }\n",
       "</style>\n",
       "<table border=\"1\" class=\"dataframe\">\n",
       "  <thead>\n",
       "    <tr style=\"text-align: right;\">\n",
       "      <th></th>\n",
       "      <th>isi</th>\n",
       "      <th>satuan (kg)</th>\n",
       "      <th>harga</th>\n",
       "    </tr>\n",
       "  </thead>\n",
       "  <tbody>\n",
       "    <tr>\n",
       "      <th>Alpukat</th>\n",
       "      <td>20</td>\n",
       "      <td>3</td>\n",
       "      <td>15000</td>\n",
       "    </tr>\n",
       "    <tr>\n",
       "      <th>Mangga</th>\n",
       "      <td>15</td>\n",
       "      <td>5</td>\n",
       "      <td>36000</td>\n",
       "    </tr>\n",
       "    <tr>\n",
       "      <th>Belimbing</th>\n",
       "      <td>30</td>\n",
       "      <td>3</td>\n",
       "      <td>27000</td>\n",
       "    </tr>\n",
       "    <tr>\n",
       "      <th>Jeruk</th>\n",
       "      <td>25</td>\n",
       "      <td>1</td>\n",
       "      <td>20000</td>\n",
       "    </tr>\n",
       "    <tr>\n",
       "      <th>Melon</th>\n",
       "      <td>35</td>\n",
       "      <td>2</td>\n",
       "      <td>32000</td>\n",
       "    </tr>\n",
       "  </tbody>\n",
       "</table>\n",
       "</div>"
      ],
      "text/plain": [
       "           isi  satuan (kg)  harga\n",
       "Alpukat     20            3  15000\n",
       "Mangga      15            5  36000\n",
       "Belimbing   30            3  27000\n",
       "Jeruk       25            1  20000\n",
       "Melon       35            2  32000"
      ]
     },
     "execution_count": 53,
     "metadata": {},
     "output_type": "execute_result"
    }
   ],
   "source": [
    "oleh_oleh = pd.DataFrame({'isi' : buah, 'satuan (kg)' : KG, 'harga' : harga_buah})\n",
    "oleh_oleh"
   ]
  },
  {
   "cell_type": "code",
   "execution_count": 55,
   "id": "b6c1ee7e",
   "metadata": {},
   "outputs": [
    {
     "data": {
      "text/plain": [
       "25"
      ]
     },
     "execution_count": 55,
     "metadata": {},
     "output_type": "execute_result"
    }
   ],
   "source": [
    "oleh_oleh['isi'] ['Jeruk']"
   ]
  },
  {
   "cell_type": "markdown",
   "id": "204c7184",
   "metadata": {},
   "source": [
    "TASK 4 - convert column name, call loc & iloc"
   ]
  },
  {
   "cell_type": "code",
   "execution_count": 61,
   "id": "9c6bf508",
   "metadata": {},
   "outputs": [
    {
     "data": {
      "text/html": [
       "<div>\n",
       "<style scoped>\n",
       "    .dataframe tbody tr th:only-of-type {\n",
       "        vertical-align: middle;\n",
       "    }\n",
       "\n",
       "    .dataframe tbody tr th {\n",
       "        vertical-align: top;\n",
       "    }\n",
       "\n",
       "    .dataframe thead th {\n",
       "        text-align: right;\n",
       "    }\n",
       "</style>\n",
       "<table border=\"1\" class=\"dataframe\">\n",
       "  <thead>\n",
       "    <tr style=\"text-align: right;\">\n",
       "      <th></th>\n",
       "      <th>jumlah</th>\n",
       "      <th>satuan (kg)</th>\n",
       "      <th>harga</th>\n",
       "    </tr>\n",
       "  </thead>\n",
       "  <tbody>\n",
       "    <tr>\n",
       "      <th>Alpukat</th>\n",
       "      <td>20</td>\n",
       "      <td>3</td>\n",
       "      <td>15000</td>\n",
       "    </tr>\n",
       "    <tr>\n",
       "      <th>Mangga</th>\n",
       "      <td>15</td>\n",
       "      <td>5</td>\n",
       "      <td>36000</td>\n",
       "    </tr>\n",
       "    <tr>\n",
       "      <th>Belimbing</th>\n",
       "      <td>30</td>\n",
       "      <td>3</td>\n",
       "      <td>27000</td>\n",
       "    </tr>\n",
       "    <tr>\n",
       "      <th>Jeruk</th>\n",
       "      <td>25</td>\n",
       "      <td>1</td>\n",
       "      <td>20000</td>\n",
       "    </tr>\n",
       "    <tr>\n",
       "      <th>Melon</th>\n",
       "      <td>35</td>\n",
       "      <td>2</td>\n",
       "      <td>32000</td>\n",
       "    </tr>\n",
       "  </tbody>\n",
       "</table>\n",
       "</div>"
      ],
      "text/plain": [
       "           jumlah  satuan (kg)  harga\n",
       "Alpukat        20            3  15000\n",
       "Mangga         15            5  36000\n",
       "Belimbing      30            3  27000\n",
       "Jeruk          25            1  20000\n",
       "Melon          35            2  32000"
      ]
     },
     "execution_count": 61,
     "metadata": {},
     "output_type": "execute_result"
    }
   ],
   "source": [
    "# ganti nama kolom isi ke jumlah\n",
    "oleh_oleh = pd.DataFrame({'jumlah' : buah, 'satuan (kg)' : KG, 'harga' : harga_buah})\n",
    "oleh_oleh"
   ]
  },
  {
   "cell_type": "code",
   "execution_count": 63,
   "id": "0cbcb2c2",
   "metadata": {},
   "outputs": [
    {
     "data": {
      "text/plain": [
       "Mangga       15\n",
       "Belimbing    30\n",
       "Jeruk        25\n",
       "Melon        35\n",
       "Name: jumlah, dtype: int64"
      ]
     },
     "execution_count": 63,
     "metadata": {},
     "output_type": "execute_result"
    }
   ],
   "source": [
    "oleh_oleh['jumlah']['Mangga' : 'Melon'] # indeks eksplisit"
   ]
  },
  {
   "cell_type": "code",
   "execution_count": 64,
   "id": "8c3e1f8e",
   "metadata": {},
   "outputs": [
    {
     "data": {
      "text/plain": [
       "Mangga       15\n",
       "Belimbing    30\n",
       "Jeruk        25\n",
       "Melon        35\n",
       "Name: jumlah, dtype: int64"
      ]
     },
     "execution_count": 64,
     "metadata": {},
     "output_type": "execute_result"
    }
   ],
   "source": [
    "oleh_oleh['jumlah'].iloc[1 : 5] # indeks implisit"
   ]
  }
 ],
 "metadata": {
  "kernelspec": {
   "display_name": "Python 3 (ipykernel)",
   "language": "python",
   "name": "python3"
  },
  "language_info": {
   "codemirror_mode": {
    "name": "ipython",
    "version": 3
   },
   "file_extension": ".py",
   "mimetype": "text/x-python",
   "name": "python",
   "nbconvert_exporter": "python",
   "pygments_lexer": "ipython3",
   "version": "3.11.4"
  }
 },
 "nbformat": 4,
 "nbformat_minor": 5
}
