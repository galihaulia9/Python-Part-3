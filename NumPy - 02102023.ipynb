{
 "cells": [
  {
   "cell_type": "markdown",
   "id": "1e8d67d8",
   "metadata": {},
   "source": [
    "### NumPy"
   ]
  },
  {
   "cell_type": "markdown",
   "id": "0fede9fc",
   "metadata": {},
   "source": [
    "The goal is to make algorithm calculations in Python lighter."
   ]
  },
  {
   "cell_type": "code",
   "execution_count": 1,
   "id": "07bff939",
   "metadata": {},
   "outputs": [],
   "source": [
    "# Import NumPy\n",
    "\n",
    "import numpy as np"
   ]
  },
  {
   "cell_type": "code",
   "execution_count": 2,
   "id": "62d7a0d8",
   "metadata": {},
   "outputs": [
    {
     "name": "stdout",
     "output_type": "stream",
     "text": [
      "1.24.3\n"
     ]
    }
   ],
   "source": [
    "# Checking NumPy Version\n",
    "\n",
    "print(np.__version__)"
   ]
  },
  {
   "cell_type": "code",
   "execution_count": 3,
   "id": "a6eafc7b",
   "metadata": {},
   "outputs": [
    {
     "name": "stdout",
     "output_type": "stream",
     "text": [
      "[1 2 3 4 5]\n"
     ]
    }
   ],
   "source": [
    "# Creating a NumPy array\n",
    "\n",
    "arr = np.array([1, 2, 3, 4, 5])\n",
    "print(arr)"
   ]
  },
  {
   "cell_type": "code",
   "execution_count": 4,
   "id": "d5ebdb2c",
   "metadata": {},
   "outputs": [
    {
     "name": "stdout",
     "output_type": "stream",
     "text": [
      "[1 2 3 4 5]\n",
      "<class 'numpy.ndarray'>\n"
     ]
    }
   ],
   "source": [
    "import numpy as np\n",
    "\n",
    "arr = np.array([1, 2, 3, 4, 5])\n",
    "\n",
    "print(arr)\n",
    "\n",
    "print(type(arr))"
   ]
  },
  {
   "cell_type": "code",
   "execution_count": 10,
   "id": "0396cb49",
   "metadata": {},
   "outputs": [
    {
     "name": "stdout",
     "output_type": "stream",
     "text": [
      "[1 2 3 4 5]\n",
      "<class 'numpy.ndarray'>\n"
     ]
    }
   ],
   "source": [
    "# Use a tuple to create a NumPy array\n",
    "\n",
    "import numpy as np\n",
    "\n",
    "arr = np.array((1, 2, 3, 4, 5))\n",
    "\n",
    "print(arr)\n",
    "\n",
    "print(type(arr)) #tidak berbentuk list karena sudah terkonversi ke NumPy"
   ]
  },
  {
   "cell_type": "markdown",
   "id": "e4cbf2d0",
   "metadata": {},
   "source": [
    "TASK 1 - import numpy, chek version, make example numpy, type data"
   ]
  },
  {
   "cell_type": "code",
   "execution_count": 5,
   "id": "1b4e77b8",
   "metadata": {},
   "outputs": [],
   "source": [
    "import numpy as np #import sekali saja sudah cukup"
   ]
  },
  {
   "cell_type": "code",
   "execution_count": 6,
   "id": "4586a15e",
   "metadata": {},
   "outputs": [
    {
     "name": "stdout",
     "output_type": "stream",
     "text": [
      "1.24.3\n"
     ]
    }
   ],
   "source": [
    "print(np.__version__)"
   ]
  },
  {
   "cell_type": "code",
   "execution_count": 7,
   "id": "cd51b584",
   "metadata": {},
   "outputs": [
    {
     "name": "stdout",
     "output_type": "stream",
     "text": [
      "[1 3 5 7 9]\n"
     ]
    }
   ],
   "source": [
    "arr = np.array([1, 3, 5, 7, 9])\n",
    "print(arr)"
   ]
  },
  {
   "cell_type": "code",
   "execution_count": 8,
   "id": "bdcbd08b",
   "metadata": {},
   "outputs": [
    {
     "name": "stdout",
     "output_type": "stream",
     "text": [
      "[1 3 5 7 9]\n",
      "<class 'numpy.ndarray'>\n"
     ]
    }
   ],
   "source": [
    "import numpy as np\n",
    "\n",
    "arr = np.array([1, 3, 5, 7, 9])\n",
    "\n",
    "print(arr)\n",
    "\n",
    "print(type(arr))"
   ]
  },
  {
   "cell_type": "markdown",
   "id": "fb3049db",
   "metadata": {},
   "source": [
    "- Dimensions in Arrays"
   ]
  },
  {
   "cell_type": "markdown",
   "id": "46b81a69",
   "metadata": {},
   "source": [
    "A dimensions in arrays is one level of array depth (nested arrays)."
   ]
  },
  {
   "cell_type": "code",
   "execution_count": null,
   "id": "8e4b1013",
   "metadata": {},
   "outputs": [],
   "source": [
    "# Create a 0-D Arrays"
   ]
  },
  {
   "cell_type": "code",
   "execution_count": 11,
   "id": "051a14e1",
   "metadata": {},
   "outputs": [
    {
     "name": "stdout",
     "output_type": "stream",
     "text": [
      "42\n"
     ]
    }
   ],
   "source": [
    "# import numpy as np\n",
    "\n",
    "arr = np.array(42)\n",
    "\n",
    "print(arr)"
   ]
  },
  {
   "cell_type": "code",
   "execution_count": null,
   "id": "4beb682d",
   "metadata": {},
   "outputs": [],
   "source": [
    "# Create a 1-D Array"
   ]
  },
  {
   "cell_type": "code",
   "execution_count": 12,
   "id": "32c6b1a9",
   "metadata": {},
   "outputs": [
    {
     "name": "stdout",
     "output_type": "stream",
     "text": [
      "[1 2 3 4 5]\n"
     ]
    }
   ],
   "source": [
    "# import numpy as np\n",
    "\n",
    "arr = np.array([1, 2, 3, 4, 5])\n",
    "\n",
    "print(arr)"
   ]
  },
  {
   "cell_type": "code",
   "execution_count": null,
   "id": "128348a2",
   "metadata": {},
   "outputs": [],
   "source": [
    "# Create a 2-D Array containing two arrays"
   ]
  },
  {
   "cell_type": "code",
   "execution_count": 13,
   "id": "b5c6f1b3",
   "metadata": {},
   "outputs": [
    {
     "name": "stdout",
     "output_type": "stream",
     "text": [
      "[[1 2 3]\n",
      " [4 5 6]\n",
      " [7 8 9]]\n"
     ]
    }
   ],
   "source": [
    "# import numpy as np\n",
    "\n",
    "arr = np.array([[1, 2, 3], [4, 5, 6], [7, 8, 9]])\n",
    "\n",
    "print(arr)"
   ]
  },
  {
   "cell_type": "markdown",
   "id": "1869beac",
   "metadata": {},
   "source": [
    "TASK 2 - Making 0-D, 1-D, 2-D Array"
   ]
  },
  {
   "cell_type": "code",
   "execution_count": 14,
   "id": "1c9bd831",
   "metadata": {},
   "outputs": [
    {
     "name": "stdout",
     "output_type": "stream",
     "text": [
      "5.8\n",
      "<class 'numpy.ndarray'>\n"
     ]
    }
   ],
   "source": [
    "# 0-D\n",
    "arr = np.array(5.8)\n",
    "\n",
    "print(arr)\n",
    "\n",
    "print(type(arr))"
   ]
  },
  {
   "cell_type": "code",
   "execution_count": 17,
   "id": "9ad30128",
   "metadata": {},
   "outputs": [
    {
     "name": "stdout",
     "output_type": "stream",
     "text": [
      "['Data Analyst' 'Kelompok 2']\n"
     ]
    }
   ],
   "source": [
    "# 1-D\n",
    "arr = np.array([\"Data Analyst\", \"Kelompok 2\"])\n",
    "\n",
    "print(arr)"
   ]
  },
  {
   "cell_type": "code",
   "execution_count": 16,
   "id": "05ab2e67",
   "metadata": {},
   "outputs": [
    {
     "name": "stdout",
     "output_type": "stream",
     "text": [
      "[[ 1  3  5]\n",
      " [ 7  9 11]\n",
      " [13 15 17]]\n"
     ]
    }
   ],
   "source": [
    "# 2-D\n",
    "arr = np.array([[1, 3, 5], [7, 9, 11], [13, 15, 17]])\n",
    "\n",
    "print(arr)"
   ]
  },
  {
   "cell_type": "code",
   "execution_count": null,
   "id": "6ea25a8b",
   "metadata": {},
   "outputs": [],
   "source": [
    "# Create a 3-D array with two 2-D arrays, both containing two arrays"
   ]
  },
  {
   "cell_type": "code",
   "execution_count": 18,
   "id": "5cdede91",
   "metadata": {},
   "outputs": [
    {
     "name": "stdout",
     "output_type": "stream",
     "text": [
      "[[[1 2 3]\n",
      "  [4 5 6]]\n",
      "\n",
      " [[1 2 3]\n",
      "  [4 5 6]]]\n"
     ]
    }
   ],
   "source": [
    "arr = np.array([[[1, 2, 3], [4, 5, 6]], [[1, 2, 3], [4, 5, 6]]])\n",
    "\n",
    "print(arr)"
   ]
  },
  {
   "cell_type": "code",
   "execution_count": null,
   "id": "9d48c122",
   "metadata": {},
   "outputs": [],
   "source": [
    "# Check how many dimensions the arrays have"
   ]
  },
  {
   "cell_type": "code",
   "execution_count": 19,
   "id": "ac80e555",
   "metadata": {},
   "outputs": [
    {
     "name": "stdout",
     "output_type": "stream",
     "text": [
      "0\n",
      "1\n",
      "2\n",
      "3\n"
     ]
    }
   ],
   "source": [
    "import numpy as np\n",
    "\n",
    "a = np.array(42)\n",
    "b = np.array([1, 2, 3, 4, 5])\n",
    "c = np.array([[1, 2, 3], [4, 5, 6]])\n",
    "d = np.array([[[1, 2, 3], [4, 5, 6]], [[1, 2, 3], [4, 5, 6]]])\n",
    "\n",
    "print(a.ndim) # ndim berfungsi untuk mengetahui/mengecek jumlah dimensi pada array\n",
    "print(b.ndim)\n",
    "print(c.ndim)\n",
    "print(d.ndim)"
   ]
  },
  {
   "cell_type": "code",
   "execution_count": null,
   "id": "f1e89f02",
   "metadata": {},
   "outputs": [],
   "source": [
    "# Create an array with 5 dimenions and verify that it has 5 dimensions"
   ]
  },
  {
   "cell_type": "code",
   "execution_count": 27,
   "id": "1594766e",
   "metadata": {},
   "outputs": [
    {
     "name": "stdout",
     "output_type": "stream",
     "text": [
      "[[[[[1 2 3 4]]]]]\n",
      "Number of dimensions :  5\n"
     ]
    }
   ],
   "source": [
    "arr = np.array([1, 2, 3, 4], ndmin=5) # ndmin berfungsi untuk membuat array sesuai yang diinginkan\n",
    "\n",
    "print(arr)\n",
    "print('Number of dimensions : ', arr.ndim)"
   ]
  },
  {
   "cell_type": "markdown",
   "id": "115feef7",
   "metadata": {},
   "source": [
    "TASK 3 - Making multiple array dimensions, chek ndim and making a arrays with ndim"
   ]
  },
  {
   "cell_type": "code",
   "execution_count": 30,
   "id": "76159173",
   "metadata": {},
   "outputs": [
    {
     "name": "stdout",
     "output_type": "stream",
     "text": [
      "0\n",
      "1\n",
      "2\n",
      "3\n"
     ]
    }
   ],
   "source": [
    "a = np.array(5.8)\n",
    "b = np.array([\"Kelompok 2\"])\n",
    "c = np.array([['Data Analyst'], ['MyEduSolve']])\n",
    "d = np.array([[[2.5, 3.5], [4.5, 5.5]], [[6.5, 7.5], [8.5, 9.5]]])\n",
    "\n",
    "print(a.ndim)\n",
    "print(b.ndim)\n",
    "print(c.ndim)\n",
    "print(d.ndim)"
   ]
  },
  {
   "cell_type": "code",
   "execution_count": 28,
   "id": "15d7df5a",
   "metadata": {},
   "outputs": [
    {
     "name": "stdout",
     "output_type": "stream",
     "text": [
      "[[[[1 2 3 4]]]]\n",
      "Number of dimensions :  4\n"
     ]
    }
   ],
   "source": [
    "arr = np.array([1, 2, 3, 4], ndmin=4) \n",
    "\n",
    "print(arr)\n",
    "print('Number of dimensions : ', arr.ndim)"
   ]
  },
  {
   "cell_type": "code",
   "execution_count": null,
   "id": "b5e272b8",
   "metadata": {},
   "outputs": [],
   "source": [
    "# Get the first element from the following array"
   ]
  },
  {
   "cell_type": "code",
   "execution_count": 31,
   "id": "30c8c544",
   "metadata": {},
   "outputs": [
    {
     "name": "stdout",
     "output_type": "stream",
     "text": [
      "1\n"
     ]
    }
   ],
   "source": [
    "arr = np.array([1, 2, 3, 4])\n",
    "\n",
    "print(arr[0])"
   ]
  },
  {
   "cell_type": "code",
   "execution_count": null,
   "id": "7af8c946",
   "metadata": {},
   "outputs": [],
   "source": [
    "# Get the second element from the following array"
   ]
  },
  {
   "cell_type": "code",
   "execution_count": 32,
   "id": "5daf99a8",
   "metadata": {},
   "outputs": [
    {
     "name": "stdout",
     "output_type": "stream",
     "text": [
      "2\n"
     ]
    }
   ],
   "source": [
    "arr = np.array([1, 2, 3, 4])\n",
    "\n",
    "print(arr[1])"
   ]
  },
  {
   "cell_type": "code",
   "execution_count": null,
   "id": "00e34394",
   "metadata": {},
   "outputs": [],
   "source": [
    "# Get third and fourth elements from the following array and add them"
   ]
  },
  {
   "cell_type": "code",
   "execution_count": 33,
   "id": "23a3f53f",
   "metadata": {},
   "outputs": [
    {
     "name": "stdout",
     "output_type": "stream",
     "text": [
      "7\n"
     ]
    }
   ],
   "source": [
    "arr = np.array([1, 2, 3, 4])\n",
    "\n",
    "print(arr[2] + arr[3])"
   ]
  },
  {
   "cell_type": "code",
   "execution_count": null,
   "id": "1f13008b",
   "metadata": {},
   "outputs": [],
   "source": [
    "# Access the element on the first row, second column"
   ]
  },
  {
   "cell_type": "code",
   "execution_count": 34,
   "id": "dcab8a71",
   "metadata": {},
   "outputs": [
    {
     "name": "stdout",
     "output_type": "stream",
     "text": [
      "2nd element on 1st row :  2\n"
     ]
    }
   ],
   "source": [
    "arr = np.array([[1, 2, 3, 4, 5], [6, 7, 8, 9, 10]])\n",
    "\n",
    "print('2nd element on 1st row : ', arr[0, 1])"
   ]
  },
  {
   "cell_type": "code",
   "execution_count": null,
   "id": "1470fd07",
   "metadata": {},
   "outputs": [],
   "source": [
    "# Access the element on the 2nd row, 5th column"
   ]
  },
  {
   "cell_type": "code",
   "execution_count": 35,
   "id": "73c93819",
   "metadata": {},
   "outputs": [
    {
     "name": "stdout",
     "output_type": "stream",
     "text": [
      "5th element on 2nd row :  10\n"
     ]
    }
   ],
   "source": [
    "arr = np.array([[1, 2, 3, 4, 5], [6, 7, 8, 9, 10]])\n",
    "\n",
    "print('5th element on 2nd row : ', arr[1, 4])"
   ]
  },
  {
   "cell_type": "markdown",
   "id": "fe0b36f9",
   "metadata": {},
   "source": [
    "TASK 4 - Making array 2D contents min 3 list, call (operasi math), slicing"
   ]
  },
  {
   "cell_type": "code",
   "execution_count": 42,
   "id": "6881fa70",
   "metadata": {},
   "outputs": [
    {
     "name": "stdout",
     "output_type": "stream",
     "text": [
      "Hasil Penjumlahan Semua Elemen :\n",
      "120\n",
      "3rd element on 2nd row :  8\n"
     ]
    }
   ],
   "source": [
    "# arrays 2D with 3 list\n",
    "arr = np.array([[1, 2, 3, 4, 5], [6, 7, 8, 9, 10], [11, 12, 13, 14, 15]])\n",
    "\n",
    "# Operasi penjumlahan\n",
    "tambah = np.sum(arr)\n",
    "print(\"Hasil Penjumlahan Semua Elemen : \")\n",
    "print(tambah)\n",
    "\n",
    "# Slicing untuk mengakses baris dan kolom tertentu\n",
    "print('3rd element on 2nd row : ', arr[1, 2])"
   ]
  },
  {
   "cell_type": "code",
   "execution_count": null,
   "id": "bd73da0f",
   "metadata": {},
   "outputs": [],
   "source": [
    "# Access the third element of the second array of the first array"
   ]
  },
  {
   "cell_type": "code",
   "execution_count": 38,
   "id": "02274c35",
   "metadata": {},
   "outputs": [
    {
     "name": "stdout",
     "output_type": "stream",
     "text": [
      "9\n"
     ]
    }
   ],
   "source": [
    "arr = np.array([[[1, 2, 3], [4, 5, 6]], [[7, 8, 9], [10, 11, 12]]])\n",
    "\n",
    "print(arr[1, 0, 2])"
   ]
  },
  {
   "cell_type": "code",
   "execution_count": null,
   "id": "fc5d064c",
   "metadata": {},
   "outputs": [],
   "source": [
    "# Print the last element from the 2nd dim"
   ]
  },
  {
   "cell_type": "code",
   "execution_count": 39,
   "id": "85eb9f70",
   "metadata": {},
   "outputs": [
    {
     "name": "stdout",
     "output_type": "stream",
     "text": [
      "Last element from 2nd dim :  10\n"
     ]
    }
   ],
   "source": [
    "arr = np.array([[1, 2, 3, 4, 5], [6, 7, 8, 9, 10]])\n",
    "\n",
    "print('Last element from 2nd dim : ', arr[1, -1])"
   ]
  }
 ],
 "metadata": {
  "kernelspec": {
   "display_name": "Python 3 (ipykernel)",
   "language": "python",
   "name": "python3"
  },
  "language_info": {
   "codemirror_mode": {
    "name": "ipython",
    "version": 3
   },
   "file_extension": ".py",
   "mimetype": "text/x-python",
   "name": "python",
   "nbconvert_exporter": "python",
   "pygments_lexer": "ipython3",
   "version": "3.11.4"
  }
 },
 "nbformat": 4,
 "nbformat_minor": 5
}
